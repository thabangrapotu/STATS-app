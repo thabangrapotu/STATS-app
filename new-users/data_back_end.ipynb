{
  "cells": [
    {
      "cell_type": "markdown",
      "metadata": {
        "id": "R3O6cBQVojeU"
      },
      "source": [
        "## Additional Features"
      ]
    },
    {
      "cell_type": "markdown",
      "metadata": {
        "id": "cPrJZTGyxY3d"
      },
      "source": [
        "# Load our church main src"
      ]
    },
    {
      "cell_type": "code",
      "execution_count": null,
      "metadata": {
        "id": "lq1QOWPSxnue"
      },
      "outputs": [],
      "source": [
        "from google.colab import drive\n",
        "drive.mount('/content/drive')"
      ]
    },
    {
      "cell_type": "markdown",
      "metadata": {
        "id": "ajHa61YNZCOC"
      },
      "source": [
        "## Clear the church member/visitor data source content while keeping the columns names only"
      ]
    },
    {
      "cell_type": "code",
      "execution_count": null,
      "metadata": {
        "id": "jlfM9T2ZwYEH"
      },
      "outputs": [],
      "source": [
        "# import csv\n",
        "\n",
        "# # Specify the CSV file path\n",
        "# csv_file_path = '/content/drive/MyDrive/Colab Notebooks/Members_src'\n",
        "\n",
        "# # Read the column names from the existing CSV file\n",
        "# with open(csv_file_path, 'r') as file:\n",
        "#     reader = csv.reader(file)\n",
        "#     column_names = next(reader)  # Read the first row as column names\n",
        "\n",
        "# # Write the column names back to the CSV file\n",
        "# with open(csv_file_path, 'w', newline='') as file:\n",
        "#     writer = csv.writer(file)\n",
        "#     writer.writerow(column_names)\n",
        "\n",
        "# print(\"CSV file contents cleared while keeping column names.\")\n"
      ]
    },
    {
      "cell_type": "code",
      "execution_count": null,
      "metadata": {
        "id": "Uzdkcl_J7N17"
      },
      "outputs": [],
      "source": [
        "# csv_file_path = \"/content/drive/MyDrive/Colab Notebooks/Members_src\"\n",
        "\n",
        "# with open(csv_file_path, 'w') as file:\n",
        "#   file.truncate(0)"
      ]
    },
    {
      "cell_type": "markdown",
      "metadata": {
        "id": "o0FydRedUP27"
      },
      "source": [
        "# Connecting a Google Colab notebook with the Anvil web app\n",
        "\n",
        "---\n",
        "\n",
        "### This notebook is designed to be used alongside Anvil's [turning a Colab notebook into a web app tutorial](https://anvil.works/learn/tutorials/google-colab-to-web-app).\n",
        "\n",
        "The text cells below tell you the steps you need to take to connect this notebook to an Anvil app. The steps are:\n",
        "\n",
        "\n",
        "1. Install the `anvil-uplink` library\n",
        "2. Import the `anvil.server` package\n",
        "3. Connect the notebook using your apps Uplink key\n",
        "4. Create a function to call from your app that includes the `anvil.server.callable` decorator\n",
        "5. Add `anvil.server.wait_forever()` to the end of the notebook\n",
        "\n",
        "### Follow along below for more detail.\n",
        "\n",
        "---\n",
        "\n",
        "\n",
        "\n"
      ]
    },
    {
      "cell_type": "markdown",
      "metadata": {
        "id": "XRNEq2Tb5gnq"
      },
      "source": [
        "### Let's start by installing the `anvil-uplink` library, all we need to do is add `!pip install anvil-uplink` to the first cell of the notebook:"
      ]
    },
    {
      "cell_type": "code",
      "execution_count": null,
      "metadata": {
        "id": "5BvNgFgk5dE2"
      },
      "outputs": [],
      "source": [
        "!pip install anvil-uplink"
      ]
    },
    {
      "cell_type": "markdown",
      "metadata": {
        "id": "WOjHWnhO5k0x"
      },
      "source": [
        "### Next import the Anvil server package by adding `import anvil.server`:\n",
        "\n",
        "Importing `anvil.server` means, when this notebook is connected via the Uplink, it will behave in the same way as any other [Anvil Server Module](https://anvil.works/docs/server)."
      ]
    },
    {
      "cell_type": "code",
      "execution_count": null,
      "metadata": {
        "id": "EML6wBYQ5fiM"
      },
      "outputs": [],
      "source": [
        "import anvil.server"
      ]
    },
    {
      "cell_type": "markdown",
      "metadata": {
        "id": "-cuHx3s3Vm52"
      },
      "source": []
    },
    {
      "cell_type": "markdown",
      "metadata": {
        "id": "RV2ze8a7ScHo"
      },
      "source": [
        "### Then connect this notebook to your app using your Uplink key `anvil.server.connect(\"your-uplink-key\")`:\n",
        "\n",
        "For information on how to get your apps Uplink key, see [Step 4 - Enable the Uplink](https://anvil.works/learn/tutorials/google-colab-to-web-app#step-4-enable-the-uplink)."
      ]
    },
    {
      "cell_type": "code",
      "execution_count": null,
      "metadata": {
        "id": "MA9-qSCOSckw"
      },
      "outputs": [],
      "source": [
        "anvil.server.connect(\"server_LM5EBXYH7IQZ66T2YKOOZR5O-GORLPH43NNN6LDGJ\")"
      ]
    },
    {
      "cell_type": "markdown",
      "metadata": {
        "id": "EAM2FDGclNbR"
      },
      "source": [
        "### Install the pandas package\n"
      ]
    },
    {
      "cell_type": "code",
      "execution_count": null,
      "metadata": {
        "id": "NCOcdE3Ekd6x"
      },
      "outputs": [],
      "source": [
        "import pandas as pd\n"
      ]
    },
    {
      "cell_type": "markdown",
      "metadata": {
        "id": "n7p5dsbMmYLA"
      },
      "source": [
        "### Create a data frame that stores the church members with members' attributes"
      ]
    },
    {
      "cell_type": "code",
      "execution_count": null,
      "metadata": {
        "id": "ult20rL8m4tI"
      },
      "outputs": [],
      "source": [
        "# members_df = pd.DataFrame(columns=['Current Date','First Name','Last Name','Nearby Area', 'Cell Nnumber','Extension Number','Gender','Join Church', 'Church Reference'])\n",
        "members_df = pd.read_csv('/content/drive/MyDrive/Colab Notebooks/Members_src')\n",
        "members_df.head()"
      ]
    },
    {
      "cell_type": "markdown",
      "metadata": {
        "id": "c2RRdUfwswSe"
      },
      "source": [
        "###Create a function that adds the church members / visitors and assigning them the - church unique ID numbers"
      ]
    },
    {
      "cell_type": "code",
      "execution_count": null,
      "metadata": {
        "id": "1V7eQJnmtYdy"
      },
      "outputs": [],
      "source": [
        "import datetime\n",
        "from pandas.io.pytables import IndexCol\n",
        "from numpy.lib import index_tricks\n",
        "\n",
        "# Get the current date\n",
        "today = datetime.date.today()\n",
        "current_date = today.strftime(\"%d %B %Y\")\n",
        "print(current_date)\n",
        "\n",
        "\n",
        "new_members_df = pd.DataFrame(columns= ['Current Date','First Name','Last Name','Nearby Area', 'Cell Nnumber','Extension Number','Gender','Join Church', 'Church Reference'])\n",
        "def generate_church_ref_number_(first_name,last_name,nearby_area, cell_number,ext_num,gender, join_church):\n",
        "  # print(f\"Joint church: {join_church}\")\n",
        "  if join_church != 'Not Yet':\n",
        "\n",
        "\n",
        "    global members_df\n",
        "\n",
        "    church_ref = first_name[0:1].upper()+last_name[0:1].upper()+str(ext_num)[6:13]\n",
        "\n",
        "    # church_ref = str(ref_num)+str(members_df.shape[0])\n",
        "    new_members_df = pd.DataFrame(data = [[current_date,first_name,last_name,nearby_area, cell_number,ext_num,gender, join_church,church_ref]],columns= ['Current Date','First Name','Last Name','Nearby Area', 'Cell Nnumber','Extension Number','Gender','Join Church', 'Church Reference'])\n",
        "    # print('new_members_df', new_members_df)\n",
        "    # new_members_df['Cell Nnumber'][:] =\n",
        "    members_df = pd.concat([members_df,new_members_df], ignore_index= True)\n",
        "    print('members_df', members_df)\n",
        "    # print(f\"str(ref_num)+str(members_df.shape[0]): {str(ref_num)+str(members_df.shape[0])}\")\n",
        "    return(church_ref)\n",
        "\n",
        "\n",
        "  else:\n",
        "    church_ref = 'null'\n",
        "    new_members_df = pd.DataFrame(data = [[current_date,first_name,last_name,nearby_area, cell_number,ext_num,gender, join_church,church_ref]],columns= ['Current Date','First Name','Last Name','Nearby Area', 'Cell Nnumber','Extension Number','Gender','Join Church', 'Church Reference'])\n",
        "    # new_members_df['Cell Nnumber'][:] =\n",
        "    members_df = pd.concat([members_df,new_members_df], ignore_index= True)\n",
        "    return (church_ref)\n",
        "  #   return(church_ref)\n",
        "  # else:\n",
        "  #   return ('null')\n",
        "\n",
        "\n",
        "\n",
        "\n",
        "\n",
        "\n"
      ]
    },
    {
      "cell_type": "markdown",
      "metadata": {
        "id": "TAd7g5X6iPY5"
      },
      "source": [
        "### Validate if user has never use the system for that Day"
      ]
    },
    {
      "cell_type": "code",
      "execution_count": null,
      "metadata": {
        "id": "wavK3DSRigt4"
      },
      "outputs": [],
      "source": [
        "from logging import exception\n",
        "from typing_extensions import TypeVarTuple\n",
        "import datetime\n",
        "\n",
        "\n",
        "def use_access_expired(ext_num, join_church):\n",
        "  # Get the current date\n",
        "  import datetime\n",
        "  today = datetime.date.today()\n",
        "  current_date = today.strftime(\"%d %B %Y\")\n",
        "  print(current_date)\n",
        "\n",
        "# Note: Extension number is the church id number\n",
        "  matching_rows = members_df.loc[members_df['Extension Number'] == ext_num]\n",
        "  matching_rows_yes_member = members_df.loc[(members_df['Extension Number'] == ext_num) & (members_df['Join Church'] == 'Yes')]\n",
        "  matching_rows_curr_date = members_df.loc[(members_df['Extension Number'] == ext_num) & (members_df['Current Date'].apply(str) == str(current_date))]\n",
        "\n",
        "  if matching_rows.empty:\n",
        "    return('True')\n",
        "    print('matching_rows.empty')\n",
        "\n",
        "  else:\n",
        "\n",
        "# Since the ID number exist, check if the ID number exist and the current id date is not same as the current date\n",
        "    if  matching_rows.empty == False and  matching_rows_yes_member.empty == False:\n",
        "      print('not matching_rows.empty() and  not matching_row')\n",
        "      return('Yes_Exist')\n",
        "\n",
        "# Since the ID number exist, check if the ID exixting member status is 'Not Yet'and the current id date is equal to actual current date of new response 'Yes'\n",
        "    if matching_rows_yes_member.empty == True and matching_rows_curr_date.empty == False and join_church == 'Yes':\n",
        "\n",
        "       index_value = matching_rows.index[0]\n",
        "       print('update_member_status(current_date, ext_num)')\n",
        "       update_member_status(index_value)\n",
        "\n",
        "       return('True')\n",
        "\n",
        "# Since the ID number exist, check if the ID exixting member status is 'Not Yet'and the current id date is equal to actual current date\n",
        "    if matching_rows.empty == False and matching_rows_curr_date.empty == False and join_church == 'Not Yet':\n",
        "      print('limit reached limit reached')\n",
        "      return('limit reached')\n",
        "\n",
        "\n"
      ]
    },
    {
      "cell_type": "code",
      "source": [],
      "metadata": {
        "id": "ii1bMxrWjH6B"
      },
      "execution_count": null,
      "outputs": []
    },
    {
      "cell_type": "markdown",
      "metadata": {
        "id": "NXIbxidO5N4D"
      },
      "source": [
        "### Delete an existing row entry if a user decide to change from a visitor to a memeber"
      ]
    },
    {
      "cell_type": "code",
      "execution_count": null,
      "metadata": {
        "id": "RhZc4a5Z5ceQ"
      },
      "outputs": [],
      "source": [
        "def update_member_status(index_value):\n",
        "  global members_df\n",
        "  # Remove rows that match the specified column values\n",
        "  index_to_delete = 0\n",
        "  print(f\"index_value: {index_value}\")\n",
        "  filtered_df =  members_df.drop(index_value, axis=0)\n",
        "  members_df = filtered_df.head()\n",
        "  print('got target')\n",
        "\n"
      ]
    },
    {
      "cell_type": "markdown",
      "metadata": {
        "id": "IhVR2o_xa8dD"
      },
      "source": [
        "### Get and Print the church ref number"
      ]
    },
    {
      "cell_type": "code",
      "execution_count": null,
      "metadata": {
        "id": "ChnTYxx3-MRt"
      },
      "outputs": [],
      "source": [
        "# Create frunction to add members or visitors and with a terminal value to get end results\n",
        "import datetime\n",
        "@anvil.server.callable\n",
        "def generate_church_ref_number(first_name,last_name,nearby_area, cell_number,ext_num,gender, join_church):\n",
        "\n",
        "\n",
        " continuos_state = use_access_expired(ext_num, join_church)\n",
        " print(continuos_state)\n",
        " if continuos_state == 'True':\n",
        "  church_ref_numbr = generate_church_ref_number_(first_name,last_name,nearby_area, cell_number,ext_num,gender, join_church)\n",
        "  return str(church_ref_numbr)\n",
        "\n",
        "\n",
        " else:\n",
        "\n",
        "  if continuos_state  == 'Yes_Exist':\n",
        "    church_ref_numbr = 'user exist'\n",
        "\n",
        "  else:\n",
        "      church_ref_numbr = 'limit reached'\n",
        "  return str(church_ref_numbr)\n",
        "\n",
        "\n",
        "\n"
      ]
    },
    {
      "cell_type": "markdown",
      "metadata": {
        "id": "e3hT1kHD4SZ0"
      },
      "source": [
        "### Testing line that act as Anvil function"
      ]
    },
    {
      "cell_type": "code",
      "execution_count": null,
      "metadata": {
        "id": "V3qJFyIpFrCD"
      },
      "outputs": [],
      "source": [
        "generate_church_ref_number('Thabanf','Das','Windmil', '+27711043768','94072387000083','Male', 'Yes')"
      ]
    },
    {
      "cell_type": "code",
      "execution_count": null,
      "metadata": {
        "id": "DGrJ13XEGOGw"
      },
      "outputs": [],
      "source": [
        "members_df"
      ]
    },
    {
      "cell_type": "markdown",
      "metadata": {
        "id": "UMmdR-tThkM-"
      },
      "source": [
        "### Finally, let's add `anvil.server.wait_forever()` function so the notebook is always available to the web app and run for a specific period before it stops:"
      ]
    },
    {
      "cell_type": "code",
      "source": [
        "import anvil.server\n",
        "import time\n",
        "\n",
        "# Define the duration in seconds after which the server should stop\n",
        "duration = 1200  # 6 seconds\n",
        "\n",
        "def stop_server():\n",
        "    print(\"Stopping the server...\")\n",
        "    anvil.server.disconnect()\n",
        "\n",
        "# Sleep for the specified duration before stopping the server\n",
        "time.sleep(duration)\n",
        "stop_server()\n",
        "try:\n",
        "  anvil.server.wait_forever()\n",
        "except:\n",
        "  pass\n"
      ],
      "metadata": {
        "id": "noSdkBHr5J0L"
      },
      "execution_count": null,
      "outputs": []
    },
    {
      "cell_type": "markdown",
      "metadata": {
        "id": "F3GwGkvZetDn"
      },
      "source": [
        "###End use interface"
      ]
    },
    {
      "cell_type": "markdown",
      "metadata": {
        "id": "JWecwMKkTH6C"
      },
      "source": [
        "##Save the data on cloud in CSV format with a current date name convention and generate description and information"
      ]
    },
    {
      "cell_type": "code",
      "execution_count": null,
      "metadata": {
        "id": "WztxLi7IUCrk"
      },
      "outputs": [],
      "source": [
        "from datetime import datetime\n",
        "\n",
        "for i in range (1, 2):\n",
        "  csv_file_path = \"/content/drive/MyDrive/Colab Notebooks/Members_src\"\n",
        "\n",
        "  header_value = False\n",
        "  try:\n",
        "    df_temp = pd.read_csv(csv_file_path)\n",
        "\n",
        "  except pd.errors.EmptyDataError:\n",
        "    header_value = True\n",
        "\n",
        "  members_df = members_df.drop_duplicates()\n",
        "  members_df = members_df.fillna('')\n",
        "\n",
        "\n",
        "  # Remove duplicates from the loaded DataFrame\n",
        "  members_df = members_df.drop_duplicates()\n",
        "\n",
        "  members_df.to_csv(csv_file_path, header=True, index=False)\n",
        "\n",
        "members_df = pd.read_csv(csv_file_path)\n",
        "members_df\n",
        "\n",
        "# members_df_information.to_csv('formatted_datetime_information.csv')"
      ]
    },
    {
      "cell_type": "markdown",
      "metadata": {
        "id": "WR1p147uXX0z"
      },
      "source": [
        "---\n",
        "\n",
        "## That's it, 5 simple steps to connect your notebook to your Anvil app!\n",
        "\n",
        "---"
      ]
    },
    {
      "cell_type": "markdown",
      "source": [
        "### Send a report"
      ],
      "metadata": {
        "id": "8Y2eLiocX7kh"
      }
    },
    {
      "cell_type": "code",
      "source": [
        "### All results of all days grouped together\n",
        "import numpy as np\n",
        "from matplotlib import pyplot as plt\n",
        "import seaborn as sns\n",
        "from IPython.display import display\n",
        "import smtplib\n",
        "from email.mime.multipart import MIMEMultipart\n",
        "from email.mime.text import MIMEText\n",
        "from email.mime.base import MIMEBase\n",
        "from email import encoders\n",
        "import zipfile\n",
        "\n",
        "from google.colab import autoviz\n",
        "\n",
        "def categorical_histogram(df, colname, figscale=1, mpl_palette_name='Dark2'):\n",
        "    df[colname].value_counts().plot(kind='barh', color=sns.palettes.mpl_palette(mpl_palette_name), figsize=(8*figscale, 4.8*figscale))\n",
        "    plt.gca().spines[['top', 'right',]].set_visible(False)\n",
        "    return autoviz.MplChart.from_current_mpl_state()\n",
        "\n",
        "def send_email(subject, body, attachment_path):\n",
        "    # Set up the SMTP server\n",
        "    smtp_server = \"smtp.gmail.com\"\n",
        "    smtp_port = 587\n",
        "    smtp_username = \"dummy2006dummy2006@gmail.com\"  # Replace with your Gmail email\n",
        "    smtp_password = \"azmlpzgdmlcprzee\"  # Replace with your Gmail app password\n",
        "\n",
        "    server = smtplib.SMTP(smtp_server, smtp_port)\n",
        "    server.starttls()\n",
        "    server.login(smtp_username, smtp_password)\n",
        "\n",
        "    # Create the email content\n",
        "    msg = MIMEMultipart()\n",
        "    msg['From'] = smtp_username\n",
        "    msg['To'] = smtp_username  # Sending the email to yourself\n",
        "    msg['Subject'] = subject\n",
        "    msg.attach(MIMEText(body, 'plain'))\n",
        "\n",
        "    zip_attachment_path = \"charts.zip\"\n",
        "    with open(zip_attachment_path, \"rb\") as f:\n",
        "        zip_attachment = MIMEBase(\"application\", \"zip\")\n",
        "        zip_attachment.set_payload(f.read())\n",
        "        encoders.encode_base64(zip_attachment)\n",
        "        zip_attachment.add_header(\n",
        "            \"Content-Disposition\", f\"attachment; filename={zip_attachment_path}\"\n",
        "        )\n",
        "        msg.attach(zip_attachment)\n",
        "\n",
        "\n",
        "\n",
        "    # Send the email\n",
        "    server.sendmail(smtp_username, smtp_username, msg.as_string())\n",
        "    server.quit()\n",
        "\n",
        "\n",
        "# Rest of your code...\n",
        "\n",
        "# Create a single clustered plot with all columns\n",
        "consecutive_columns = 'Join Church'\n",
        "plt.figure(figsize=(10, 6))  # Adjust the figure size as needed\n",
        "plt.title(\"Members Attendees for Church Services\")\n",
        "plt.gca().spines[[\"top\", \"right\"]].set_visible(False)\n",
        "sns.set_palette(\"Dark2\")  # Set palette for colors\n",
        "categorical_histogram(members_df, consecutive_columns, figscale=0.8)\n",
        "\n",
        "plt.legend(consecutive_columns)\n",
        "plt.tight_layout()\n",
        "\n",
        "# Save the clustered plot as an image\n",
        "clustered_plot_path = \"clustered_plot.png\"\n",
        "plt.savefig(clustered_plot_path)\n",
        "plt.close()  # Close the plot\n",
        "\n",
        "# Create a ZIP file containing the clustered plot\n",
        "with zipfile.ZipFile(\"charts.zip\", \"w\") as zipf:\n",
        "    zipf.write(clustered_plot_path, \"clustered_plot.png\")\n",
        "\n",
        "# Send the email with the ZIP attachment\n",
        "send_email(\"Church Attendance Reports\", \"Good day\\n\\nPlease find the attached church attendance reports.\\n\\nKR\\nADMIN\", \"charts.zip\")\n"
      ],
      "metadata": {
        "id": "ZTz7Z-3jX_t2"
      },
      "execution_count": null,
      "outputs": []
    },
    {
      "cell_type": "markdown",
      "metadata": {
        "id": "PhXqXbWgakxG"
      },
      "source": [
        "### Run the notebook. You should see output like this:\n",
        "\n",
        "Connecting to wss://anvil.works/uplink\n",
        "\n",
        "Anvil websocket open\n",
        "\n",
        "Authenticated OK\n"
      ]
    },
    {
      "cell_type": "markdown",
      "metadata": {
        "id": "ZVHnKK248CSh"
      },
      "source": [
        "# Take back the data source from Colab to driver"
      ]
    },
    {
      "cell_type": "code",
      "execution_count": null,
      "metadata": {
        "id": "p2jHCQAd8Mlv"
      },
      "outputs": [],
      "source": [
        "# drive.flush_and_unmount()"
      ]
    }
  ],
  "metadata": {
    "colab": {
      "provenance": []
    },
    "kernelspec": {
      "display_name": "Python 3",
      "name": "python3"
    }
  },
  "nbformat": 4,
  "nbformat_minor": 0
}