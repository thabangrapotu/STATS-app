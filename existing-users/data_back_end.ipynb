{
  "cells": [
    {
      "cell_type": "markdown",
      "source": [
        "# Load our church main src"
      ],
      "metadata": {
        "id": "cPrJZTGyxY3d"
      }
    },
    {
      "cell_type": "code",
      "source": [
        "from google.colab import drive\n",
        "drive.mount('/content/drive')"
      ],
      "metadata": {
        "id": "lq1QOWPSxnue"
      },
      "execution_count": null,
      "outputs": []
    },
    {
      "cell_type": "markdown",
      "source": [
        "## Clear the church member data source content while keeping the columns names only"
      ],
      "metadata": {
        "id": "ajHa61YNZCOC"
      }
    },
    {
      "cell_type": "code",
      "source": [
        "# import csv\n",
        "\n",
        "# # Specify the CSV file path\n",
        "# csv_file_path = '/content/drive/MyDrive/Colab Notebooks/Members_Attendee_Src'\n",
        "\n",
        "# # Read the column names from the existing CSV file\n",
        "# with open(csv_file_path, 'r') as file:\n",
        "#     reader = csv.reader(file)\n",
        "#     column_names = next(reader)  # Read the first row as column names\n",
        "\n",
        "# # Write the column names back to the CSV file\n",
        "# with open(csv_file_path, 'w', newline='') as file:\n",
        "#     writer = csv.writer(file)\n",
        "#     writer.writerow(column_names)\n",
        "\n",
        "# print(\"CSV file contents cleared while keeping column names.\")\n"
      ],
      "metadata": {
        "id": "Uzdkcl_J7N17"
      },
      "execution_count": null,
      "outputs": []
    },
    {
      "cell_type": "markdown",
      "metadata": {
        "id": "o0FydRedUP27"
      },
      "source": [
        "# Connecting a Google Colab notebook with the Anvil web app\n",
        "\n",
        "---\n",
        "\n",
        "### This notebook is designed to be used alongside Anvil's [turning a Colab notebook into a web app tutorial](https://anvil.works/learn/tutorials/google-colab-to-web-app).\n",
        "\n",
        "The text cells below tell you the steps you need to take to connect this notebook to an Anvil app. The steps are:\n",
        "\n",
        "\n",
        "1. Install the `anvil-uplink` library\n",
        "2. Import the `anvil.server` package\n",
        "3. Connect the notebook using your apps Uplink key\n",
        "4. Create a function to call from your app that includes the `anvil.server.callable` decorator\n",
        "5. Add `anvil.server.wait_forever()` to the end of the notebook\n",
        "\n",
        "### Follow along below for more detail.\n",
        "\n",
        "---\n",
        "\n",
        "\n",
        "\n"
      ]
    },
    {
      "cell_type": "markdown",
      "metadata": {
        "id": "XRNEq2Tb5gnq"
      },
      "source": [
        "### Let's start by installing the `anvil-uplink` library, all we need to do is add `!pip install anvil-uplink` to the first cell of the notebook:"
      ]
    },
    {
      "cell_type": "code",
      "execution_count": null,
      "metadata": {
        "id": "5BvNgFgk5dE2"
      },
      "outputs": [],
      "source": [
        "!pip install anvil-uplink"
      ]
    },
    {
      "cell_type": "markdown",
      "metadata": {
        "id": "WOjHWnhO5k0x"
      },
      "source": [
        "### Next import the Anvil server package by adding `import anvil.server`:\n",
        "\n",
        "Importing `anvil.server` means, when this notebook is connected via the Uplink, it will behave in the same way as any other [Anvil Server Module](https://anvil.works/docs/server)."
      ]
    },
    {
      "cell_type": "code",
      "execution_count": null,
      "metadata": {
        "id": "EML6wBYQ5fiM"
      },
      "outputs": [],
      "source": [
        "import anvil.server"
      ]
    },
    {
      "cell_type": "markdown",
      "metadata": {
        "id": "-cuHx3s3Vm52"
      },
      "source": []
    },
    {
      "cell_type": "markdown",
      "metadata": {
        "id": "RV2ze8a7ScHo"
      },
      "source": [
        "### Then connect this notebook to your app using your Uplink key `anvil.server.connect(\"your-uplink-key\")`:\n",
        "\n",
        "For information on how to get your apps Uplink key, see [Step 4 - Enable the Uplink](https://anvil.works/learn/tutorials/google-colab-to-web-app#step-4-enable-the-uplink)."
      ]
    },
    {
      "cell_type": "code",
      "execution_count": null,
      "metadata": {
        "id": "MA9-qSCOSckw"
      },
      "outputs": [],
      "source": [
        "anvil.server.connect(\"server_WNFXJZNRL4C3V527M2KYJZCT-IAKEVNEL4STXNXOB\")"
      ]
    },
    {
      "cell_type": "markdown",
      "metadata": {
        "id": "EAM2FDGclNbR"
      },
      "source": [
        "### Install the pandas package\n"
      ]
    },
    {
      "cell_type": "code",
      "execution_count": null,
      "metadata": {
        "id": "NCOcdE3Ekd6x"
      },
      "outputs": [],
      "source": [
        "import pandas as pd\n"
      ]
    },
    {
      "cell_type": "markdown",
      "metadata": {
        "id": "n7p5dsbMmYLA"
      },
      "source": [
        "### Create a data frame that stores or append the new / old church members (without taking null church ID number / visitors data)"
      ]
    },
    {
      "cell_type": "code",
      "execution_count": null,
      "metadata": {
        "id": "ult20rL8m4tI"
      },
      "outputs": [],
      "source": [
        "import datetime\n",
        "import os\n",
        "\n",
        "members_df = pd.read_csv('/content/drive/MyDrive/Colab Notebooks/Members_src')\n",
        "\n",
        "today = datetime.date.today()\n",
        "Current_Date = today.strftime(\"%d %B %Y\")\n",
        "\n",
        "\n",
        "csv_file_path = \"/content/drive/MyDrive/Colab Notebooks/Members_Attendee_Src\"\n",
        "\n",
        "\n",
        "header_value = not os.path.exists(\"/content/drive/MyDrive/Colab Notebooks/Members_src\")  # Set header if file doesn't exist\n",
        "\n",
        "# Read the existing CSV file (if it exists)\n",
        "members_attendee__df = pd.read_csv(csv_file_path) if os.path.exists(csv_file_path) else None\n",
        "\n",
        "# Dealing more with data frame for the church/visitor members, filter or negate rows in members source or with visitor status 'Not Yet'\n",
        "members_df = members_df[~members_df['Church Reference'].isin(members_attendee__df['Church Reference'])]\n",
        "\n",
        "members_df = members_df[~(members_df['Join Church'] == 'Not Yet')]\n",
        "\n",
        "members_df.to_csv(csv_file_path, mode='a', header=header_value, index=False)\n",
        "\n",
        "\n",
        "# Optionally, update the existing_df to include the appended rows\n",
        "if  members_attendee__df is not None:\n",
        "    members_df = members_attendee__df.append(members_df, ignore_index=True)\n",
        "else:\n",
        "    members_df = members_attendee__df\n",
        "\n",
        "members_df[Current_Date] = pd.NA\n",
        "\n",
        "members_df.head()"
      ]
    },
    {
      "cell_type": "markdown",
      "metadata": {
        "id": "c2RRdUfwswSe"
      },
      "source": [
        "###Create a function that generates the user details linked to the church members ID"
      ]
    },
    {
      "cell_type": "code",
      "execution_count": null,
      "metadata": {
        "id": "1V7eQJnmtYdy"
      },
      "outputs": [],
      "source": [
        "from pandas.io.pytables import IndexCol\n",
        "from numpy.lib import index_tricks\n",
        "\n",
        "\n",
        "df_church_members = members_df\n",
        "\n",
        "\n",
        "def confirm_church_ref_(church_ref):\n",
        "\n",
        "  global attendee_members_df\n",
        "  attendee_matches_df = df_church_members[df_church_members['Church Reference'] == str(church_ref)].copy()\n",
        "\n",
        "  print(attendee_matches_df.columns)\n",
        "\n",
        "  if attendee_matches_df.empty:\n",
        "\n",
        "    return \"InvalidRef\"\n",
        "    # return \"0\"\n",
        "  else:\n",
        "    title = 'Mr.'\n",
        "    if attendee_matches_df['Gender'].iloc[0] == 'Female':\n",
        "      title = 'Miss/Mrs.'\n",
        "\n",
        "\n",
        "    # members_attendee_df = pd.concat([members_attendee_df,attendee_matches_df], ignore_index= True)\n",
        "    capitilized_name = title+\" \"+attendee_matches_df['First Name'].str.capitalize() +\" \"+attendee_matches_df['Last Name'].str.capitalize()\n",
        "    print(capitilized_name)\n",
        "    return (capitilized_name.to_string(index = False, header = False))\n",
        "\n",
        "\n"
      ]
    },
    {
      "cell_type": "markdown",
      "source": [
        "### Determine if user Exist, logged-in to system today, or does not exist"
      ],
      "metadata": {
        "id": "7ACMAbfpNYCY"
      }
    },
    {
      "cell_type": "code",
      "source": [
        "def user_exist_search(ext_num):\n",
        "  import datetime\n",
        "\n",
        "  # Note:\n",
        "  # ext_num / Church Reference refers to id_num / Church ID Number\n",
        "\n",
        "\n",
        "\n",
        "  today = datetime.date.today()\n",
        "  Current_Date = today.strftime(\"%d %B %Y\")\n",
        "\n",
        "\n",
        "  matching_rows = members_df.loc[members_df['Church Reference'] == ext_num]\n",
        "  matching_rows_yes_member = members_df.loc[(members_df['Church Reference'] == ext_num) & (members_df[Current_Date] == 'Yes')]\n",
        "  # matching_rows_curr_date = members_attendee_df.loc[(members_attendee_df['Extension Number'] == ext_num) & (members_attendee_df['Current Date'] == current_date)]\n",
        "\n",
        "  if matching_rows.empty:\n",
        "    print('matching_rows.empty()')\n",
        "    return('no user exist')\n",
        "\n",
        "\n",
        "  else:\n",
        "    matching_row_df = matching_rows.iloc[0]\n",
        "    # matching_rows_yes_memeber =\n",
        "    matching_row_df_ = pd.DataFrame([matching_row_df])\n",
        "    matching_row_df_ = matching_row_df_.reset_index(drop=True)\n",
        "\n",
        "    try:\n",
        "      if  matching_rows.empty == False and  matching_row_df[Current_Date] == 'Yes':\n",
        "        print('not matching_rows.empty() and  not matching_row')\n",
        "        return('User exist')\n",
        "\n",
        "    except Exception as e:\n",
        "      print('exception '+str(e))\n",
        "\n",
        "    try:\n",
        "      # if matching_rows[(([matching_rows['current_date'] == 'Not Yet']) and ([matching_rows['Current Date'] == current_date]))].empty and join_church == 'Yes':\n",
        "      if matching_rows_yes_member.empty == True and matching_rows.empty == False:\n",
        "        index_value = matching_rows.index[0]\n",
        "        print('update_member_status(index_value, current_date)')\n",
        "        update_member_status(index_value, Current_Date)\n",
        "\n",
        "        return('True')\n",
        "\n",
        "    except Exception as e:\n",
        "      print('exception2 '+str(e))\n"
      ],
      "metadata": {
        "id": "imQpS6QkN2UL"
      },
      "execution_count": null,
      "outputs": []
    },
    {
      "cell_type": "markdown",
      "source": [
        "### Mark user as attended based on the current date"
      ],
      "metadata": {
        "id": "mNm75xqAS-I7"
      }
    },
    {
      "cell_type": "code",
      "source": [
        "def update_member_status(index_val, current_date):\n",
        "  members_df.at[index_val, current_date] = 'Yes'\n",
        "  print(f\"members_df: {members_df}\")\n",
        "\n",
        "\n"
      ],
      "metadata": {
        "id": "3Ev60ksFTKOl"
      },
      "execution_count": null,
      "outputs": []
    },
    {
      "cell_type": "markdown",
      "metadata": {
        "id": "IhVR2o_xa8dD"
      },
      "source": [
        "### Get and Print the church ref number"
      ]
    },
    {
      "cell_type": "code",
      "execution_count": null,
      "metadata": {
        "id": "ChnTYxx3-MRt"
      },
      "outputs": [],
      "source": [
        "# Create frunction to add members or visitors and with a terminal value to get end results\n",
        "@anvil.server.callable\n",
        "def confirm_church_ref(church_ref):\n",
        "  user_exist_status = user_exist_search(church_ref)\n",
        "\n",
        "  if user_exist_status ==  'True':\n",
        "    confirm_names = confirm_church_ref_(str(church_ref))\n",
        "    return (confirm_names)\n",
        "  else:\n",
        "    if user_exist_status == 'User exist':\n",
        "      return('User exist')\n",
        "    else:\n",
        "      return('no user exist')\n",
        "\n",
        "\n",
        "\n",
        "\n",
        "\n",
        "confirm_church_ref('TD0000183')\n",
        "\n",
        "#  print(str(sit_number))\n",
        "\n",
        "\n",
        "\n"
      ]
    },
    {
      "cell_type": "markdown",
      "source": [
        "### test"
      ],
      "metadata": {
        "id": "y6e60SWoBbGm"
      }
    },
    {
      "cell_type": "code",
      "source": [
        "members_df.head()"
      ],
      "metadata": {
        "id": "uV8fd25afc9G"
      },
      "execution_count": null,
      "outputs": []
    },
    {
      "cell_type": "markdown",
      "source": [
        "### test(Call function called by the anvil client server here)"
      ],
      "metadata": {
        "id": "PfLGa5YfBpeT"
      }
    },
    {
      "cell_type": "code",
      "source": [
        "# confirm_church_ref('TD0000183')"
      ],
      "metadata": {
        "id": "8N9524EVJPFJ"
      },
      "execution_count": null,
      "outputs": []
    },
    {
      "cell_type": "markdown",
      "metadata": {
        "id": "Y54Z7Ano6wT4"
      },
      "source": [
        "### Finally, let's add `anvil.server.wait_forever()` function so the notebook is always available to the web app:"
      ]
    },
    {
      "cell_type": "code",
      "execution_count": null,
      "metadata": {
        "id": "LrvdeoW7xu9r"
      },
      "outputs": [],
      "source": [
        "import anvil.server\n",
        "import time\n",
        "\n",
        "# Define the duration in seconds after which the server should stop\n",
        "duration = 1200  # 6 seconds\n",
        "\n",
        "def stop_server():\n",
        "    print(\"Stopping the server...\")\n",
        "    anvil.server.disconnect()\n",
        "\n",
        "# Sleep for the specified duration before stopping the server\n",
        "time.sleep(duration)\n",
        "stop_server()\n",
        "try:\n",
        "  anvil.server.wait_forever()\n",
        "except:\n",
        "  pass\n",
        "\n"
      ]
    },
    {
      "cell_type": "markdown",
      "metadata": {
        "id": "F3GwGkvZetDn"
      },
      "source": [
        "###End use interface"
      ]
    },
    {
      "cell_type": "markdown",
      "metadata": {
        "id": "JWecwMKkTH6C"
      },
      "source": [
        "##Save the data on cloud in CSV format with a current date name convention and generate description and information"
      ]
    },
    {
      "cell_type": "code",
      "execution_count": null,
      "metadata": {
        "id": "WztxLi7IUCrk"
      },
      "outputs": [],
      "source": [
        "from datetime import datetime\n",
        "import os\n",
        "\n",
        "current_datetime = datetime.now()\n",
        "# print(current_datetime)\n",
        "formatted_datetime = current_datetime.strftime(\"%A, %B, %d, %Y\")\n",
        "\n",
        "\n",
        "csv_file_path = \"/content/drive/MyDrive/Colab Notebooks/Members_Attendee_Src\"\n",
        "\n",
        "print(csv_file_path)\n",
        "header_value = False\n",
        "try:\n",
        "  df_temp = pd.read_csv(csv_file_path)\n",
        "\n",
        "except pd.errors.EmptyDataError:\n",
        "  header_value = True\n",
        "\n",
        "members_df = members_df.fillna('')\n",
        "\n",
        "members_df = members_df.dropna(how='all')\n",
        "\n",
        "members_df.to_csv(csv_file_path, header=True, index=False)\n",
        "members_df.head()\n"
      ]
    },
    {
      "cell_type": "markdown",
      "source": [
        "### Summery of church attendance at church"
      ],
      "metadata": {
        "id": "9lXlnJ-bW57o"
      }
    },
    {
      "cell_type": "code",
      "source": [
        "import numpy as np\n",
        "from google.colab import autoviz\n",
        "from matplotlib import pyplot as plt\n",
        "import seaborn as sns\n",
        "from IPython.display import display\n",
        "\n",
        "def categorical_histogram(df, colname, figscale=1, mpl_palette_name='Dark2'):\n",
        "    df[colname].value_counts().plot(kind='barh', color=sns.palettes.mpl_palette(mpl_palette_name), figsize=(8*figscale, 4.8*figscale))\n",
        "    plt.gca().spines[['top', 'right',]].set_visible(False)\n",
        "    return autoviz.MplChart.from_current_mpl_state()\n",
        "\n",
        "# List of consecutive columns you want to visualize\n",
        "last_date_col = members_df.shape[1]\n",
        "consecutive_columns = members_df.columns[9:last_date_col]  # Adjust this range according to your data\n",
        "\n",
        "# Set a larger figure size\n",
        "figsize = (2, 1)\n",
        "\n",
        "# Loop through the consecutive columns and create categorical histograms\n",
        "for col in consecutive_columns:\n",
        "    plt.figure(figsize=figsize)  # Set figure size\n",
        "    # print(col)\n",
        "    # colname = members_df.columns[int(col)]\n",
        "    # df[colname].value_counts().plot(kind='barh', color=sns.palettes.mpl_palette(mpl_palette_name), figsize=(8*figscale, 4.8*figscale))\n",
        "    plt.gca().spines[['top', 'right',]].set_visible(False)\n",
        "    plt.title(f'Members Attendees for {col} church service')\n",
        "    # plt.xlabel('Members count')\n",
        "    # plt.ylabel(\"Attend Response\")\n",
        "    plt.tight_layout()\n",
        "    chart = categorical_histogram(members_df, col)\n",
        "    chart.display()\n"
      ],
      "metadata": {
        "id": "nBXe7Q1wN_sG"
      },
      "execution_count": null,
      "outputs": []
    },
    {
      "cell_type": "code",
      "source": [
        "import numpy as np\n",
        "from matplotlib import pyplot as plt\n",
        "import seaborn as sns\n",
        "from IPython.display import display\n",
        "import numpy as np\n",
        "from google.colab import autoviz\n",
        "from matplotlib import pyplot as plt\n",
        "import seaborn as sns\n",
        "from IPython.display import display\n",
        "import smtplib\n",
        "from email.mime.multipart import MIMEMultipart\n",
        "from email.mime.text import MIMEText\n",
        "from email.mime.image import MIMEImage\n",
        "# from google.colab import files\n",
        "\n",
        "# Define the members_df and other variables as needed\n",
        "\n",
        "def categorical_histogram(df, colname, figscale=1, mpl_palette_name='Dark2'):\n",
        "    df[colname].value_counts().plot(kind='barh', color=sns.palettes.mpl_palette(mpl_palette_name), figsize=(8*figscale, 4.8*figscale))\n",
        "    plt.gca().spines[['top', 'right']].set_visible(False)\n",
        "    return plt  # Return the plt object for further customization if needed\n",
        "\n",
        "# List of consecutive columns you want to visualize\n",
        "last_date_col = members_df.shape[1]\n",
        "consecutive_columns = members_df.columns[9:last_date_col]  # Adjust this range according to your data\n",
        "\n",
        "# Set a larger figure size\n",
        "figsize = (2, 1)\n",
        "\n",
        "# Create a folder to save the charts\n",
        "!mkdir charts\n",
        "\n",
        "# Loop through the consecutive columns and create categorical histograms\n",
        "for col in consecutive_columns:\n",
        "    plt.figure(figsize=figsize)  # Set figure size\n",
        "    plt.gca().spines[['top', 'right']].set_visible(False)\n",
        "    plt.title(f'Members Attendees for {col} church service')\n",
        "    plt.tight_layout()\n",
        "    chart = categorical_histogram(members_df, col)\n",
        "\n",
        "    # Save the chart as an image file\n",
        "    chart_path = f\"charts/chart_{col}.png\"\n",
        "    plt.savefig(chart_path)\n",
        "    plt.close()  # Close the plot\n",
        "\n",
        "    # chart.display()  # Display the chart\n",
        "\n",
        "# Move all generated charts to a subdirectory\n",
        "!mv *.png charts/\n",
        "\n",
        "# Optional: Zip the charts folder\n",
        "!zip -r charts.zip charts/\n"
      ],
      "metadata": {
        "id": "5yFSMwNFCLN6"
      },
      "execution_count": null,
      "outputs": []
    },
    {
      "cell_type": "markdown",
      "source": [
        "### Each day Data on a seperated graphical pivotal chart display"
      ],
      "metadata": {
        "id": "IN5V9lW0JDyc"
      }
    },
    {
      "cell_type": "code",
      "source": [
        "# Keep / is per each day on seperate\n",
        "import numpy as np\n",
        "from matplotlib import pyplot as plt\n",
        "import seaborn as sns\n",
        "from IPython.display import display\n",
        "import smtplib\n",
        "from email.mime.multipart import MIMEMultipart\n",
        "from email.mime.text import MIMEText\n",
        "from email.mime.base import MIMEBase\n",
        "from email import encoders\n",
        "import zipfile\n",
        "from google.colab import files\n",
        "\n",
        "def send_email(subject, body, attachment_path):\n",
        "    # Set up the SMTP server\n",
        "    smtp_server = \"smtp.gmail.com\"\n",
        "    smtp_port = 587\n",
        "    smtp_username = \"dummy2006dummy2006@gmail.com\"  # Replace with your Gmail email\n",
        "    smtp_password = \"azmlpzgdmlcprzee\"  # Replace with your Gmail app password\n",
        "\n",
        "    server = smtplib.SMTP(smtp_server, smtp_port)\n",
        "    server.starttls()\n",
        "    server.login(smtp_username, smtp_password)\n",
        "\n",
        "    # Create the email content\n",
        "    msg = MIMEMultipart()\n",
        "    msg['From'] = smtp_username\n",
        "    msg['To'] = smtp_username  # Sending the email to yourself\n",
        "    msg['Subject'] = subject\n",
        "    msg.attach(MIMEText(body, 'plain'))\n",
        "\n",
        "    # Attach the ZIP file\n",
        "    zip_attachment_path = \"charts.zip\"\n",
        "    with open(zip_attachment_path, \"rb\") as f:\n",
        "        zip_attachment = MIMEBase(\"application\", \"zip\")\n",
        "        zip_attachment.set_payload(f.read())\n",
        "        encoders.encode_base64(zip_attachment)\n",
        "        zip_attachment.add_header(\n",
        "            \"Content-Disposition\", f\"attachment; filename={zip_attachment_path}\"\n",
        "        )\n",
        "        msg.attach(zip_attachment)\n",
        "\n",
        "\n",
        "    # Send the email\n",
        "    server.sendmail(smtp_username, smtp_username, msg.as_string())\n",
        "    server.quit()\n",
        "\n",
        "\n",
        "\n",
        "# Rest of your code...\n",
        "\n",
        "attachments = []\n",
        "figsize = (2, 1)\n",
        "for col in consecutive_columns:\n",
        "    plt.figure(figsize=figsize)\n",
        "    plt.gca().spines[[\"top\", \"right\"]].set_visible(False)\n",
        "    plt.title(f\"Members Attendees for {col} church service\")\n",
        "    # plt.tight_layout()\n",
        "    chart = categorical_histogram(members_df, col)\n",
        "\n",
        "    # Save the chart as an image\n",
        "    attachment_path = f\"chart_{col}.jpeg\"\n",
        "    attachments.append(attachment_path)\n",
        "    plt.savefig(attachment_path)\n",
        "    plt.close()  # Close the plot\n",
        "\n",
        "# Create a ZIP file containing all attachments\n",
        "with zipfile.ZipFile(\"charts.zip\", \"w\") as zipf:\n",
        "    for attachment in attachments:\n",
        "        zipf.write(attachment)\n",
        "\n",
        "# Send the email with the ZIP attachment\n",
        "send_email(\"Churcha Attendance Report\", \"Good day\\n\\nPlease find the attached church attendance report.\\n\\nKR\\nADMIN\", \"charts.zip\")\n"
      ],
      "metadata": {
        "id": "jkHHWJ-eHoiJ"
      },
      "execution_count": null,
      "outputs": []
    },
    {
      "cell_type": "markdown",
      "source": [
        "### Send an email"
      ],
      "metadata": {
        "id": "6hUn-BG5XD4W"
      }
    },
    {
      "cell_type": "code",
      "source": [
        "### All results of all days grouped together\n",
        "import numpy as np\n",
        "from matplotlib import pyplot as plt\n",
        "import seaborn as sns\n",
        "from IPython.display import display\n",
        "import smtplib\n",
        "from email.mime.multipart import MIMEMultipart\n",
        "from email.mime.text import MIMEText\n",
        "from email.mime.base import MIMEBase\n",
        "from email import encoders\n",
        "import zipfile\n",
        "from google.colab import files\n",
        "\n",
        "def send_email(subject, body, attachment_path):\n",
        "    # Set up the SMTP server\n",
        "    smtp_server = \"smtp.gmail.com\"\n",
        "    smtp_port = 587\n",
        "    smtp_username = \"dummy2006dummy2006@gmail.com\"  # Replace with your Gmail email\n",
        "    smtp_password = \"azmlpzgdmlcprzee\"  # Replace with your Gmail app password\n",
        "\n",
        "    server = smtplib.SMTP(smtp_server, smtp_port)\n",
        "    server.starttls()\n",
        "    server.login(smtp_username, smtp_password)\n",
        "\n",
        "    # Create the email content\n",
        "    msg = MIMEMultipart()\n",
        "    msg['From'] = smtp_username\n",
        "    msg['To'] = smtp_username  # Sending the email to yourself\n",
        "    msg['Subject'] = subject\n",
        "    msg.attach(MIMEText(body, 'plain'))\n",
        "\n",
        "    zip_attachment_path = \"charts.zip\"\n",
        "    with open(zip_attachment_path, \"rb\") as f:\n",
        "        zip_attachment = MIMEBase(\"application\", \"zip\")\n",
        "        zip_attachment.set_payload(f.read())\n",
        "        encoders.encode_base64(zip_attachment)\n",
        "        zip_attachment.add_header(\n",
        "            \"Content-Disposition\", f\"attachment; filename={zip_attachment_path}\"\n",
        "        )\n",
        "        msg.attach(zip_attachment)\n",
        "\n",
        "\n",
        "\n",
        "    # Send the email\n",
        "    server.sendmail(smtp_username, smtp_username, msg.as_string())\n",
        "    server.quit()\n",
        "\n",
        "\n",
        "# Rest of your code...\n",
        "\n",
        "# Create a single clustered plot with all columns\n",
        "plt.figure(figsize=(10, 6))  # Adjust the figure size as needed\n",
        "plt.title(\"Members Attendees for Church Services\")\n",
        "plt.gca().spines[[\"top\", \"right\"]].set_visible(False)\n",
        "sns.set_palette(\"Dark2\")  # Set palette for colors\n",
        "for col in consecutive_columns:\n",
        "    categorical_histogram(members_df, col, figscale=0.8)\n",
        "\n",
        "plt.legend(consecutive_columns)\n",
        "plt.tight_layout()\n",
        "\n",
        "# Save the clustered plot as an image\n",
        "clustered_plot_path = \"clustered_plot.png\"\n",
        "plt.savefig(clustered_plot_path)\n",
        "plt.close()  # Close the plot\n",
        "\n",
        "# Create a ZIP file containing the clustered plot\n",
        "with zipfile.ZipFile(\"charts.zip\", \"w\") as zipf:\n",
        "    zipf.write(clustered_plot_path, \"clustered_plot.png\")\n",
        "\n",
        "# Send the email with the ZIP attachment\n",
        "send_email(\"Church Attendance Reports\", \"Good day\\n\\nPlease find the attached church attendance reports.\\n\\nKR\\nADMIN\", \"charts.zip\")\n"
      ],
      "metadata": {
        "id": "koEx9M1qXDjO"
      },
      "execution_count": null,
      "outputs": []
    },
    {
      "cell_type": "markdown",
      "source": [],
      "metadata": {
        "id": "QGseINqVT5vt"
      }
    },
    {
      "cell_type": "code",
      "source": [
        "import seaborn as sns\n",
        "import matplotlib.pyplot as plt\n",
        "\n",
        "# Create subplots for each column\n",
        "fig, axes = plt.subplots(nrows=len(consecutive_columns), ncols=1, figsize=(10, 8))\n",
        "\n",
        "# Loop through consecutive_columns and create countplots\n",
        "for i, col in enumerate(consecutive_columns):\n",
        "    sns.countplot(data=members_df, x=col, ax=axes[i])\n",
        "    axes[i].set_title(f\"{col} Church Service\")\n",
        "    axes[i].set_ylabel(\"Count\")\n",
        "\n",
        "plt.tight_layout()\n",
        "plt.show()\n"
      ],
      "metadata": {
        "id": "edNZSoUh4ojN"
      },
      "execution_count": null,
      "outputs": []
    },
    {
      "cell_type": "code",
      "source": [
        "# TO SEND or do THE ABOVE\n",
        "#  import numpy as np\n",
        "# from matplotlib import pyplot as plt\n",
        "# import seaborn as sns\n",
        "# from IPython.display import display\n",
        "# import smtplib\n",
        "# from email.mime.multipart import MIMEMultipart\n",
        "# from email.mime.text import MIMEText\n",
        "# from email.mime.base import MIMEBase\n",
        "# from email import encoders\n",
        "# import zipfile\n",
        "\n",
        "# # Function to send the email\n",
        "# def send_email(subject, body, attachment_path):\n",
        "\n",
        "\n",
        "# # Set up the email details\n",
        "#     smtp_server = \"smtp.gmail.com\"\n",
        "#     smtp_port = 587\n",
        "#     smtp_username = \"dummy2006dummy2006@gmail.com\"  # Replace with your Gmail email\n",
        "#     smtp_password = \"azmlpzgdmlcprzee\"  # Replace with your Gmail app password\n",
        "\n",
        "# # Create the email content\n",
        "#     msg = MIMEMultipart()\n",
        "#     msg[\"From\"] = smtp_username\n",
        "#     msg[\"To\"] = smtp_username  # Sending the email to yourself\n",
        "#     msg[\"Subject\"] = \"Visualization Attachments\"    # ... (your email setup code) ...\n",
        "\n",
        "#     # Attach the ZIP file\n",
        "#     zip_attachment_path = \"charts.zip\"\n",
        "#     with open(zip_attachment_path, \"rb\") as f:\n",
        "#         zip_attachment = MIMEBase(\"application\", \"zip\")\n",
        "#         zip_attachment.set_payload(f.read())\n",
        "#         encoders.encode_base64(zip_attachment)\n",
        "#         zip_attachment.add_header(\n",
        "#             \"Content-Disposition\", f\"attachment; filename={zip_attachment_path}\"\n",
        "#         )\n",
        "#         msg.attach(zip_attachment)\n",
        "\n",
        "#     # Send the email\n",
        "#     server.sendmail(smtp_username, smtp_username, msg.as_string())\n",
        "#     server.quit()\n",
        "\n",
        "# # Rest of your code...\n",
        "\n",
        "# # Create a single clustered plot with all columns\n",
        "# plt.figure(figsize=(10, 6))  # Adjust the figure size as needed\n",
        "# plt.title(\"Members Attendees for Church Services\")\n",
        "# plt.gca().spines[[\"top\", \"right\"]].set_visible(False)\n",
        "# sns.set_palette(\"Dark2\")  # Set palette for colors\n",
        "\n",
        "# # Loop through consecutive_columns and create clustered plots\n",
        "# for col in consecutive_columns:\n",
        "#     plt.subplot(len(consecutive_columns), 1, consecutive_columns.get_loc(col) + 1)\n",
        "#     categorical_histogram(members_df, col, figscale=0.8)\n",
        "#     plt.title(f\"{col} Church Service\")\n",
        "#     plt.xlabel(\"\")  # Clear x-axis label for better alignment\n",
        "\n",
        "# plt.tight_layout()\n",
        "# plt.show()\n",
        "\n",
        "# # Save the clustered plot as an image\n",
        "# clustered_plot_path = \"clustered_plot.png\"\n",
        "# plt.savefig(clustered_plot_path)\n",
        "# plt.close()  # Close the plot\n",
        "\n",
        "# # Create a ZIP file containing the clustered plot\n",
        "# with zipfile.ZipFile(\"charts.zip\", \"w\") as zipf:\n",
        "#     zipf.write(clustered_plot_path, \"clustered_plot.png\")\n",
        "\n",
        "# # Send the email with the ZIP attachment\n",
        "# send_email(\"Generated Charts\", \"Here are the generated charts.\", \"charts.zip\")\n"
      ],
      "metadata": {
        "id": "Qkb2YWoQQblt"
      },
      "execution_count": null,
      "outputs": []
    },
    {
      "cell_type": "markdown",
      "metadata": {
        "id": "WR1p147uXX0z"
      },
      "source": [
        "---\n",
        "\n",
        "## That's it, 5 simple steps to connect your notebook to your Anvil app!\n",
        "\n",
        "---"
      ]
    },
    {
      "cell_type": "markdown",
      "metadata": {
        "id": "PhXqXbWgakxG"
      },
      "source": [
        "### Run the notebook. You should see output like this:\n",
        "\n",
        "Connecting to wss://anvil.works/uplink\n",
        "\n",
        "Anvil websocket open\n",
        "\n",
        "Authenticated OK\n"
      ]
    },
    {
      "cell_type": "markdown",
      "source": [
        "# Test(Take back the data source to drive)"
      ],
      "metadata": {
        "id": "ZVHnKK248CSh"
      }
    },
    {
      "cell_type": "code",
      "source": [
        "# drive.flush_and_unmount()"
      ],
      "metadata": {
        "id": "p2jHCQAd8Mlv"
      },
      "execution_count": null,
      "outputs": []
    }
  ],
  "metadata": {
    "colab": {
      "provenance": []
    },
    "kernelspec": {
      "display_name": "Python 3",
      "name": "python3"
    }
  },
  "nbformat": 4,
  "nbformat_minor": 0
}